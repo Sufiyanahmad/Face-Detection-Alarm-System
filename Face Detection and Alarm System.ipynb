{
 "cells": [
  {
   "cell_type": "code",
   "execution_count": 1,
   "id": "981df4cd",
   "metadata": {},
   "outputs": [
    {
     "name": "stdout",
     "output_type": "stream",
     "text": [
      "pygame not installed. Non-Windows alarm will be text-based.\n",
      "Install with: pip install pygame\n"
     ]
    }
   ],
   "source": [
    "import cv2\n",
    "import numpy as np\n",
    "import platform\n",
    "import time\n",
    "import os\n",
    "try:\n",
    "    from gtts import gTTS\n",
    "    from playsound import playsound\n",
    "except ImportError as e:\n",
    "    print(f\"Error importing gTTS or playsound: {e}\")\n",
    "    print(\"Please install them using: pip install gTTS playsound==1.2.2\")\n",
    "    exit()\n",
    "try:\n",
    "    import pygame\n",
    "except ImportError:\n",
    "    print(\"pygame not installed. Non-Windows alarm will be text-based.\")\n",
    "    print(\"Install with: pip install pygame\")\n",
    "    pygame = None"
   ]
  },
  {
   "cell_type": "code",
   "execution_count": 2,
   "id": "7c1b6848",
   "metadata": {},
   "outputs": [],
   "source": [
    "# Initialize pygame for cross-platform audio (if available)\n",
    "if pygame:\n",
    "    pygame.mixer.init()"
   ]
  },
  {
   "cell_type": "code",
   "execution_count": 3,
   "id": "c4b6c916",
   "metadata": {},
   "outputs": [],
   "source": [
    "# Initialize Haar Cascade for face detection\n",
    "try:\n",
    "    face_cascade = cv2.CascadeClassifier(cv2.data.haarcascades + 'haarcascade_frontalface_default.xml')\n",
    "    if face_cascade.empty():\n",
    "        print(\"Error: Could not load Haar Cascade classifier. Ensure OpenCV is installed correctly.\")\n",
    "        exit()\n",
    "except Exception as e:\n",
    "    print(f\"Error loading Haar Cascade: {e}\")\n",
    "    exit()\n",
    "\n",
    "# Initialize camera\n",
    "try:\n",
    "    cap = cv2.VideoCapture(0)\n",
    "    if not cap.isOpened():\n",
    "        print(\"Error: Could not open camera. Check if it's connected or try a different index (e.g., 1).\")\n",
    "        exit()\n",
    "except Exception as e:\n",
    "    print(f\"Error initializing caqmera: {e}\")\n",
    "    exit()"
   ]
  },
  {
   "cell_type": "code",
   "execution_count": 4,
   "id": "550b5b4e",
   "metadata": {},
   "outputs": [
    {
     "name": "stderr",
     "output_type": "stream",
     "text": [
      "\n",
      "    Error 263 for command:\n",
      "        open fire_alarm.mp3\n",
      "    The specified device is not open or is not recognized by MCI.\n",
      "\n",
      "    Error 263 for command:\n",
      "        close fire_alarm.mp3\n",
      "    The specified device is not open or is not recognized by MCI.\n",
      "Failed to close the file: fire_alarm.mp3\n"
     ]
    },
    {
     "name": "stdout",
     "output_type": "stream",
     "text": [
      "Error in audio output: \n",
      "    Error 263 for command:\n",
      "        open fire_alarm.mp3\n",
      "    The specified device is not open or is not recognized by MCI.\n"
     ]
    },
    {
     "name": "stderr",
     "output_type": "stream",
     "text": [
      "\n",
      "    Error 263 for command:\n",
      "        open fire_alarm.mp3\n",
      "    The specified device is not open or is not recognized by MCI.\n",
      "\n",
      "    Error 263 for command:\n",
      "        close fire_alarm.mp3\n",
      "    The specified device is not open or is not recognized by MCI.\n",
      "Failed to close the file: fire_alarm.mp3\n"
     ]
    },
    {
     "name": "stdout",
     "output_type": "stream",
     "text": [
      "Error in audio output: \n",
      "    Error 263 for command:\n",
      "        open fire_alarm.mp3\n",
      "    The specified device is not open or is not recognized by MCI.\n"
     ]
    },
    {
     "name": "stderr",
     "output_type": "stream",
     "text": [
      "\n",
      "    Error 263 for command:\n",
      "        open fire_alarm.mp3\n",
      "    The specified device is not open or is not recognized by MCI.\n",
      "\n",
      "    Error 263 for command:\n",
      "        close fire_alarm.mp3\n",
      "    The specified device is not open or is not recognized by MCI.\n",
      "Failed to close the file: fire_alarm.mp3\n"
     ]
    },
    {
     "name": "stdout",
     "output_type": "stream",
     "text": [
      "Error in audio output: \n",
      "    Error 263 for command:\n",
      "        open fire_alarm.mp3\n",
      "    The specified device is not open or is not recognized by MCI.\n"
     ]
    },
    {
     "name": "stderr",
     "output_type": "stream",
     "text": [
      "\n",
      "    Error 263 for command:\n",
      "        open fire_alarm.mp3\n",
      "    The specified device is not open or is not recognized by MCI.\n",
      "\n",
      "    Error 263 for command:\n",
      "        close fire_alarm.mp3\n",
      "    The specified device is not open or is not recognized by MCI.\n",
      "Failed to close the file: fire_alarm.mp3\n"
     ]
    },
    {
     "name": "stdout",
     "output_type": "stream",
     "text": [
      "Error in audio output: \n",
      "    Error 263 for command:\n",
      "        open fire_alarm.mp3\n",
      "    The specified device is not open or is not recognized by MCI.\n"
     ]
    },
    {
     "name": "stderr",
     "output_type": "stream",
     "text": [
      "\n",
      "    Error 263 for command:\n",
      "        open fire_alarm.mp3\n",
      "    The specified device is not open or is not recognized by MCI.\n",
      "\n",
      "    Error 263 for command:\n",
      "        close fire_alarm.mp3\n",
      "    The specified device is not open or is not recognized by MCI.\n",
      "Failed to close the file: fire_alarm.mp3\n"
     ]
    },
    {
     "name": "stdout",
     "output_type": "stream",
     "text": [
      "Error in audio output: \n",
      "    Error 263 for command:\n",
      "        open fire_alarm.mp3\n",
      "    The specified device is not open or is not recognized by MCI.\n"
     ]
    },
    {
     "name": "stderr",
     "output_type": "stream",
     "text": [
      "\n",
      "    Error 263 for command:\n",
      "        open fire_alarm.mp3\n",
      "    The specified device is not open or is not recognized by MCI.\n",
      "\n",
      "    Error 263 for command:\n",
      "        close fire_alarm.mp3\n",
      "    The specified device is not open or is not recognized by MCI.\n",
      "Failed to close the file: fire_alarm.mp3\n"
     ]
    },
    {
     "name": "stdout",
     "output_type": "stream",
     "text": [
      "Error in audio output: \n",
      "    Error 263 for command:\n",
      "        open fire_alarm.mp3\n",
      "    The specified device is not open or is not recognized by MCI.\n"
     ]
    },
    {
     "name": "stderr",
     "output_type": "stream",
     "text": [
      "\n",
      "    Error 263 for command:\n",
      "        open fire_alarm.mp3\n",
      "    The specified device is not open or is not recognized by MCI.\n",
      "\n",
      "    Error 263 for command:\n",
      "        close fire_alarm.mp3\n",
      "    The specified device is not open or is not recognized by MCI.\n",
      "Failed to close the file: fire_alarm.mp3\n"
     ]
    },
    {
     "name": "stdout",
     "output_type": "stream",
     "text": [
      "Error in audio output: \n",
      "    Error 263 for command:\n",
      "        open fire_alarm.mp3\n",
      "    The specified device is not open or is not recognized by MCI.\n"
     ]
    },
    {
     "name": "stderr",
     "output_type": "stream",
     "text": [
      "\n",
      "    Error 263 for command:\n",
      "        open fire_alarm.mp3\n",
      "    The specified device is not open or is not recognized by MCI.\n",
      "\n",
      "    Error 263 for command:\n",
      "        close fire_alarm.mp3\n",
      "    The specified device is not open or is not recognized by MCI.\n",
      "Failed to close the file: fire_alarm.mp3\n"
     ]
    },
    {
     "name": "stdout",
     "output_type": "stream",
     "text": [
      "Error in audio output: \n",
      "    Error 263 for command:\n",
      "        open fire_alarm.mp3\n",
      "    The specified device is not open or is not recognized by MCI.\n"
     ]
    },
    {
     "name": "stderr",
     "output_type": "stream",
     "text": [
      "\n",
      "    Error 263 for command:\n",
      "        open fire_alarm.mp3\n",
      "    The specified device is not open or is not recognized by MCI.\n",
      "\n",
      "    Error 263 for command:\n",
      "        close fire_alarm.mp3\n",
      "    The specified device is not open or is not recognized by MCI.\n",
      "Failed to close the file: fire_alarm.mp3\n"
     ]
    },
    {
     "name": "stdout",
     "output_type": "stream",
     "text": [
      "Error in audio output: \n",
      "    Error 263 for command:\n",
      "        open fire_alarm.mp3\n",
      "    The specified device is not open or is not recognized by MCI.\n"
     ]
    },
    {
     "name": "stderr",
     "output_type": "stream",
     "text": [
      "\n",
      "    Error 263 for command:\n",
      "        open fire_alarm.mp3\n",
      "    The specified device is not open or is not recognized by MCI.\n",
      "\n",
      "    Error 263 for command:\n",
      "        close fire_alarm.mp3\n",
      "    The specified device is not open or is not recognized by MCI.\n",
      "Failed to close the file: fire_alarm.mp3\n"
     ]
    },
    {
     "name": "stdout",
     "output_type": "stream",
     "text": [
      "Error in audio output: \n",
      "    Error 263 for command:\n",
      "        open fire_alarm.mp3\n",
      "    The specified device is not open or is not recognized by MCI.\n"
     ]
    },
    {
     "name": "stderr",
     "output_type": "stream",
     "text": [
      "\n",
      "    Error 259 for command:\n",
      "        play fire_alarm.mp3 wait\n",
      "    The driver cannot recognize the specified command parameter.\n"
     ]
    },
    {
     "name": "stdout",
     "output_type": "stream",
     "text": [
      "Error in audio output: \n",
      "    Error 259 for command:\n",
      "        play fire_alarm.mp3 wait\n",
      "    The driver cannot recognize the specified command parameter.\n"
     ]
    },
    {
     "name": "stderr",
     "output_type": "stream",
     "text": [
      "\n",
      "    Error 263 for command:\n",
      "        open fire_alarm.mp3\n",
      "    The specified device is not open or is not recognized by MCI.\n",
      "\n",
      "    Error 263 for command:\n",
      "        close fire_alarm.mp3\n",
      "    The specified device is not open or is not recognized by MCI.\n",
      "Failed to close the file: fire_alarm.mp3\n"
     ]
    },
    {
     "name": "stdout",
     "output_type": "stream",
     "text": [
      "Error in audio output: \n",
      "    Error 263 for command:\n",
      "        open fire_alarm.mp3\n",
      "    The specified device is not open or is not recognized by MCI.\n"
     ]
    }
   ],
   "source": [
    "# Alarm settings\n",
    "ALARM_FREQUENCY = 1000  # Hz\n",
    "ALARM_DURATION = 4000    # ms\n",
    "SPEECH_COOLDOWN = 2     # Seconds between speech outputs\n",
    "AUDIO_FILE = \"fire_alarm.mp3\"\n",
    "last_spoken = 0\n",
    "\n",
    "def play_alarm():\n",
    "    \"\"\"Play alarm sound (Windows or cross-platform with pygame).\"\"\"\n",
    "    if platform.system() == \"Windows\":\n",
    "        try:\n",
    "            import winsound\n",
    "            winsound.Beep(ALARM_FREQUENCY, ALARM_DURATION)\n",
    "        except Exception as e:\n",
    "            print(f\"Error playing alarm (winsound): {e}\")\n",
    "    elif pygame:\n",
    "        try:\n",
    "            # Generate a simple beep sound\n",
    "            pygame.mixer.init()\n",
    "            sample_rate = 44100\n",
    "            duration = ALARM_DURATION / 10000  # Convert to seconds\n",
    "            t = np.linspace(0, duration, int(sample_rate * duration), False)\n",
    "            audio = np.sin(ALARM_FREQUENCY * t * 2 * np.pi) * 32767\n",
    "            audio = audio.astype(np.int16)\n",
    "            sound = pygame.mixer.Sound(audio)\n",
    "            sound.play()\n",
    "            time.sleep(duration)  # Wait for sound to finish\n",
    "        except Exception as e:\n",
    "            print(f\"Error playing alarm (pygame): {e}\")\n",
    "            print(\"Alarm triggered (beep)\")\n",
    "    else:\n",
    "        print(\"Alarm triggered (beep)\")\n",
    "\n",
    "def speak(text):\n",
    "    \"\"\"Generate and play audio from text using gTTS.\"\"\"\n",
    "    try:\n",
    "        tts = gTTS(text=text, lang='en')\n",
    "        tts.save(AUDIO_FILE)\n",
    "        playsound(AUDIO_FILE)\n",
    "        os.remove(AUDIO_FILE)\n",
    "    except Exception as e:\n",
    "        print(f\"Error in audio output: {e}\")\n",
    "\n",
    "def main():\n",
    "    \"\"\"Main loop for object detection and alarm.\"\"\"\n",
    "    global last_spoken\n",
    "    detected = False\n",
    "    alarm_active = False\n",
    "    \n",
    "    while True:\n",
    "        try:\n",
    "            ret, frame = cap.read()\n",
    "            if not ret:\n",
    "                print(\"Error: Could not read frame.\")\n",
    "                break\n",
    "            \n",
    "            # Convert frame to grayscale for Haar Cascade\n",
    "            gray = cv2.cvtColor(frame, cv2.COLOR_BGR2GRAY)\n",
    "            \n",
    "            # Detect faces\n",
    "            faces = face_cascade.detectMultiScale(gray, scaleFactor=1.1, minNeighbors=5, minSize=(30, 30))\n",
    "            \n",
    "            current_time = time.time()\n",
    "            current_detected = len(faces) > 0\n",
    "            \n",
    "            # Draw rectangles around detected faces\n",
    "            for (x, y, w, h) in faces:\n",
    "                cv2.rectangle(frame, (x, y), (x+w, y+h), (0, 255, 0), 2)\n",
    "                cv2.putText(frame, \"Face\", (x, y-10), cv2.FONT_HERSHEY_SIMPLEX, 0.9, (0, 255, 0), 2)\n",
    "            \n",
    "            # Audio feedback for detection changes\n",
    "            if current_detected != detected and current_time - last_spoken > SPEECH_COOLDOWN:\n",
    "                detected = current_detected\n",
    "                if detected:\n",
    "                    speak(\"Face detected\")\n",
    "                else:\n",
    "                    speak(\"No face detected\")\n",
    "                last_spoken = current_time\n",
    "            \n",
    "            # Alarm logic\n",
    "            if detected and not alarm_active:\n",
    "                alarm_active = True\n",
    "                play_alarm()\n",
    "            elif not detected:\n",
    "                alarm_active = False\n",
    "            \n",
    "            # Display frame\n",
    "            cv2.imshow('Object Detection', frame)\n",
    "            \n",
    "            # Break loop on 'q' key press\n",
    "            if cv2.waitKey(1) & 0xFF == ord('q'):\n",
    "                break\n",
    "                \n",
    "        except Exception as e:\n",
    "            print(f\"Error in main loop: {e}\")\n",
    "            break\n",
    "    \n",
    "    # Cleanup\n",
    "    try:\n",
    "        cap.release()\n",
    "        cv2.destroyAllWindows()\n",
    "        if os.path.exists(AUDIO_FILE):\n",
    "            os.remove(AUDIO_FILE)\n",
    "        if pygame:\n",
    "            pygame.mixer.quit()\n",
    "    except Exception as e:\n",
    "        print(f\"Error during cleanup: {e}\")\n",
    "\n",
    "if __name__ == \"__main__\":\n",
    "    main()"
   ]
  }
 ],
 "metadata": {
  "kernelspec": {
   "display_name": "Python 3",
   "language": "python",
   "name": "python3"
  },
  "language_info": {
   "codemirror_mode": {
    "name": "ipython",
    "version": 3
   },
   "file_extension": ".py",
   "mimetype": "text/x-python",
   "name": "python",
   "nbconvert_exporter": "python",
   "pygments_lexer": "ipython3",
   "version": "3.11.9"
  }
 },
 "nbformat": 4,
 "nbformat_minor": 5
}
